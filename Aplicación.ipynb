{
  "nbformat": 4,
  "nbformat_minor": 0,
  "metadata": {
    "colab": {
      "name": "Aplicación.ipynb",
      "provenance": [],
      "toc_visible": true,
      "authorship_tag": "ABX9TyOptvgKfWwbk8+/B2KlrvYv",
      "include_colab_link": true
    },
    "kernelspec": {
      "name": "python3",
      "display_name": "Python 3"
    },
    "language_info": {
      "name": "python"
    },
    "widgets": {
      "application/vnd.jupyter.widget-state+json": {
        "7c8f56010e9f4a71ad6e7314cd98fcf3": {
          "model_module": "@jupyter-widgets/controls",
          "model_name": "VBoxModel",
          "state": {
            "_view_name": "VBoxView",
            "_dom_classes": [],
            "_model_name": "VBoxModel",
            "_view_module": "@jupyter-widgets/controls",
            "_model_module_version": "1.5.0",
            "_view_count": null,
            "_view_module_version": "1.5.0",
            "box_style": "",
            "layout": "IPY_MODEL_b393e40ba2574e04ae624ef03fe5b4c7",
            "_model_module": "@jupyter-widgets/controls",
            "children": [
              "IPY_MODEL_207660f166994f6b800f064e7ce8d4b4",
              "IPY_MODEL_c8ed9cfa5206484383a6ae1c1234c5fc",
              "IPY_MODEL_e64db3ec82c742b7a555edfdd87f0fba",
              "IPY_MODEL_c952fb662ca34daea62210e257b24fba"
            ]
          }
        },
        "b393e40ba2574e04ae624ef03fe5b4c7": {
          "model_module": "@jupyter-widgets/base",
          "model_name": "LayoutModel",
          "state": {
            "_view_name": "LayoutView",
            "grid_template_rows": null,
            "right": null,
            "justify_content": null,
            "_view_module": "@jupyter-widgets/base",
            "overflow": null,
            "_model_module_version": "1.2.0",
            "_view_count": null,
            "flex_flow": null,
            "width": null,
            "min_width": null,
            "border": null,
            "align_items": null,
            "bottom": null,
            "_model_module": "@jupyter-widgets/base",
            "top": null,
            "grid_column": null,
            "overflow_y": null,
            "overflow_x": null,
            "grid_auto_flow": null,
            "grid_area": null,
            "grid_template_columns": null,
            "flex": null,
            "_model_name": "LayoutModel",
            "justify_items": null,
            "grid_row": null,
            "max_height": null,
            "align_content": null,
            "visibility": null,
            "align_self": null,
            "height": null,
            "min_height": null,
            "padding": null,
            "grid_auto_rows": null,
            "grid_gap": null,
            "max_width": null,
            "order": null,
            "_view_module_version": "1.2.0",
            "grid_template_areas": null,
            "object_position": null,
            "object_fit": null,
            "grid_auto_columns": null,
            "margin": null,
            "display": null,
            "left": null
          }
        },
        "207660f166994f6b800f064e7ce8d4b4": {
          "model_module": "@jupyter-widgets/controls",
          "model_name": "LabelModel",
          "state": {
            "_view_name": "LabelView",
            "style": "IPY_MODEL_f423bc0885524402b7304d33ba461c80",
            "_dom_classes": [],
            "description": "",
            "_model_name": "LabelModel",
            "placeholder": "​",
            "_view_module": "@jupyter-widgets/controls",
            "_model_module_version": "1.5.0",
            "value": "Sube tu imagen para clasificarla.",
            "_view_count": null,
            "_view_module_version": "1.5.0",
            "description_tooltip": null,
            "_model_module": "@jupyter-widgets/controls",
            "layout": "IPY_MODEL_232d34779f8240938e875028d4950360"
          }
        },
        "c8ed9cfa5206484383a6ae1c1234c5fc": {
          "model_module": "@jupyter-widgets/controls",
          "model_name": "FileUploadModel",
          "state": {
            "_view_name": "FileUploadView",
            "_counter": 0,
            "style": "IPY_MODEL_a5dc7ce91d9743db94af5821023871de",
            "_dom_classes": [],
            "description": "Upload",
            "multiple": false,
            "_model_name": "FileUploadModel",
            "data": [],
            "button_style": "",
            "_view_module": "@jupyter-widgets/controls",
            "_model_module_version": "1.5.0",
            "accept": "",
            "_view_count": null,
            "disabled": false,
            "_view_module_version": "1.5.0",
            "error": "",
            "description_tooltip": null,
            "metadata": [],
            "_model_module": "@jupyter-widgets/controls",
            "layout": "IPY_MODEL_1f924fb192374eb48f7c849469659014",
            "icon": "upload"
          }
        },
        "e64db3ec82c742b7a555edfdd87f0fba": {
          "model_module": "@jupyter-widgets/output",
          "model_name": "OutputModel",
          "state": {
            "_view_name": "OutputView",
            "msg_id": "",
            "_dom_classes": [],
            "_model_name": "OutputModel",
            "outputs": [],
            "_view_module": "@jupyter-widgets/output",
            "_model_module_version": "1.0.0",
            "_view_count": null,
            "_view_module_version": "1.0.0",
            "layout": "IPY_MODEL_c00d5e88b49948d18f6178b9e91419a4",
            "_model_module": "@jupyter-widgets/output"
          }
        },
        "c952fb662ca34daea62210e257b24fba": {
          "model_module": "@jupyter-widgets/controls",
          "model_name": "LabelModel",
          "state": {
            "_view_name": "LabelView",
            "style": "IPY_MODEL_7078db9584ea4742ba098f8b4a393bc2",
            "_dom_classes": [],
            "description": "",
            "_model_name": "LabelModel",
            "placeholder": "​",
            "_view_module": "@jupyter-widgets/controls",
            "_model_module_version": "1.5.0",
            "value": "",
            "_view_count": null,
            "_view_module_version": "1.5.0",
            "description_tooltip": null,
            "_model_module": "@jupyter-widgets/controls",
            "layout": "IPY_MODEL_f255e3ef1e3e455e9426325db39d015b"
          }
        },
        "f423bc0885524402b7304d33ba461c80": {
          "model_module": "@jupyter-widgets/controls",
          "model_name": "DescriptionStyleModel",
          "state": {
            "_view_name": "StyleView",
            "_model_name": "DescriptionStyleModel",
            "description_width": "",
            "_view_module": "@jupyter-widgets/base",
            "_model_module_version": "1.5.0",
            "_view_count": null,
            "_view_module_version": "1.2.0",
            "_model_module": "@jupyter-widgets/controls"
          }
        },
        "232d34779f8240938e875028d4950360": {
          "model_module": "@jupyter-widgets/base",
          "model_name": "LayoutModel",
          "state": {
            "_view_name": "LayoutView",
            "grid_template_rows": null,
            "right": null,
            "justify_content": null,
            "_view_module": "@jupyter-widgets/base",
            "overflow": null,
            "_model_module_version": "1.2.0",
            "_view_count": null,
            "flex_flow": null,
            "width": null,
            "min_width": null,
            "border": null,
            "align_items": null,
            "bottom": null,
            "_model_module": "@jupyter-widgets/base",
            "top": null,
            "grid_column": null,
            "overflow_y": null,
            "overflow_x": null,
            "grid_auto_flow": null,
            "grid_area": null,
            "grid_template_columns": null,
            "flex": null,
            "_model_name": "LayoutModel",
            "justify_items": null,
            "grid_row": null,
            "max_height": null,
            "align_content": null,
            "visibility": null,
            "align_self": null,
            "height": null,
            "min_height": null,
            "padding": null,
            "grid_auto_rows": null,
            "grid_gap": null,
            "max_width": null,
            "order": null,
            "_view_module_version": "1.2.0",
            "grid_template_areas": null,
            "object_position": null,
            "object_fit": null,
            "grid_auto_columns": null,
            "margin": null,
            "display": null,
            "left": null
          }
        },
        "a5dc7ce91d9743db94af5821023871de": {
          "model_module": "@jupyter-widgets/controls",
          "model_name": "ButtonStyleModel",
          "state": {
            "_view_name": "StyleView",
            "_model_name": "ButtonStyleModel",
            "_view_module": "@jupyter-widgets/base",
            "_model_module_version": "1.5.0",
            "_view_count": null,
            "button_color": null,
            "font_weight": "",
            "_view_module_version": "1.2.0",
            "_model_module": "@jupyter-widgets/controls"
          }
        },
        "1f924fb192374eb48f7c849469659014": {
          "model_module": "@jupyter-widgets/base",
          "model_name": "LayoutModel",
          "state": {
            "_view_name": "LayoutView",
            "grid_template_rows": null,
            "right": null,
            "justify_content": null,
            "_view_module": "@jupyter-widgets/base",
            "overflow": null,
            "_model_module_version": "1.2.0",
            "_view_count": null,
            "flex_flow": null,
            "width": null,
            "min_width": null,
            "border": null,
            "align_items": null,
            "bottom": null,
            "_model_module": "@jupyter-widgets/base",
            "top": null,
            "grid_column": null,
            "overflow_y": null,
            "overflow_x": null,
            "grid_auto_flow": null,
            "grid_area": null,
            "grid_template_columns": null,
            "flex": null,
            "_model_name": "LayoutModel",
            "justify_items": null,
            "grid_row": null,
            "max_height": null,
            "align_content": null,
            "visibility": null,
            "align_self": null,
            "height": null,
            "min_height": null,
            "padding": null,
            "grid_auto_rows": null,
            "grid_gap": null,
            "max_width": null,
            "order": null,
            "_view_module_version": "1.2.0",
            "grid_template_areas": null,
            "object_position": null,
            "object_fit": null,
            "grid_auto_columns": null,
            "margin": null,
            "display": null,
            "left": null
          }
        },
        "7078db9584ea4742ba098f8b4a393bc2": {
          "model_module": "@jupyter-widgets/controls",
          "model_name": "DescriptionStyleModel",
          "state": {
            "_view_name": "StyleView",
            "_model_name": "DescriptionStyleModel",
            "description_width": "",
            "_view_module": "@jupyter-widgets/base",
            "_model_module_version": "1.5.0",
            "_view_count": null,
            "_view_module_version": "1.2.0",
            "_model_module": "@jupyter-widgets/controls"
          }
        },
        "f255e3ef1e3e455e9426325db39d015b": {
          "model_module": "@jupyter-widgets/base",
          "model_name": "LayoutModel",
          "state": {
            "_view_name": "LayoutView",
            "grid_template_rows": null,
            "right": null,
            "justify_content": null,
            "_view_module": "@jupyter-widgets/base",
            "overflow": null,
            "_model_module_version": "1.2.0",
            "_view_count": null,
            "flex_flow": null,
            "width": null,
            "min_width": null,
            "border": null,
            "align_items": null,
            "bottom": null,
            "_model_module": "@jupyter-widgets/base",
            "top": null,
            "grid_column": null,
            "overflow_y": null,
            "overflow_x": null,
            "grid_auto_flow": null,
            "grid_area": null,
            "grid_template_columns": null,
            "flex": null,
            "_model_name": "LayoutModel",
            "justify_items": null,
            "grid_row": null,
            "max_height": null,
            "align_content": null,
            "visibility": null,
            "align_self": null,
            "height": null,
            "min_height": null,
            "padding": null,
            "grid_auto_rows": null,
            "grid_gap": null,
            "max_width": null,
            "order": null,
            "_view_module_version": "1.2.0",
            "grid_template_areas": null,
            "object_position": null,
            "object_fit": null,
            "grid_auto_columns": null,
            "margin": null,
            "display": null,
            "left": null
          }
        },
        "c00d5e88b49948d18f6178b9e91419a4": {
          "model_module": "@jupyter-widgets/base",
          "model_name": "LayoutModel",
          "state": {
            "_view_name": "LayoutView",
            "grid_template_rows": null,
            "right": null,
            "justify_content": null,
            "_view_module": "@jupyter-widgets/base",
            "overflow": null,
            "_model_module_version": "1.2.0",
            "_view_count": null,
            "flex_flow": null,
            "width": null,
            "min_width": null,
            "border": null,
            "align_items": null,
            "bottom": null,
            "_model_module": "@jupyter-widgets/base",
            "top": null,
            "grid_column": null,
            "overflow_y": null,
            "overflow_x": null,
            "grid_auto_flow": null,
            "grid_area": null,
            "grid_template_columns": null,
            "flex": null,
            "_model_name": "LayoutModel",
            "justify_items": null,
            "grid_row": null,
            "max_height": null,
            "align_content": null,
            "visibility": null,
            "align_self": null,
            "height": null,
            "min_height": null,
            "padding": null,
            "grid_auto_rows": null,
            "grid_gap": null,
            "max_width": null,
            "order": null,
            "_view_module_version": "1.2.0",
            "grid_template_areas": null,
            "object_position": null,
            "object_fit": null,
            "grid_auto_columns": null,
            "margin": null,
            "display": null,
            "left": null
          }
        },
        "2730a1c1c2644cc0b828809b0461fe2d": {
          "model_module": "@jupyter-widgets/controls",
          "model_name": "VBoxModel",
          "state": {
            "_view_name": "VBoxView",
            "_dom_classes": [],
            "_model_name": "VBoxModel",
            "_view_module": "@jupyter-widgets/controls",
            "_model_module_version": "1.5.0",
            "_view_count": null,
            "_view_module_version": "1.5.0",
            "box_style": "",
            "layout": "IPY_MODEL_9cccb2afc18846e39deacb1a5b529381",
            "_model_module": "@jupyter-widgets/controls",
            "children": [
              "IPY_MODEL_7996259600384f1895553e7bd33798e3",
              "IPY_MODEL_b3c129f30e214594929cfba9a7504559",
              "IPY_MODEL_5d7627f497ff444f9f6d6fe7bfd87020",
              "IPY_MODEL_3e0c190a2cab46a1a3df6c842bfc34c5"
            ]
          }
        },
        "9cccb2afc18846e39deacb1a5b529381": {
          "model_module": "@jupyter-widgets/base",
          "model_name": "LayoutModel",
          "state": {
            "_view_name": "LayoutView",
            "grid_template_rows": null,
            "right": null,
            "justify_content": null,
            "_view_module": "@jupyter-widgets/base",
            "overflow": null,
            "_model_module_version": "1.2.0",
            "_view_count": null,
            "flex_flow": null,
            "width": null,
            "min_width": null,
            "border": null,
            "align_items": null,
            "bottom": null,
            "_model_module": "@jupyter-widgets/base",
            "top": null,
            "grid_column": null,
            "overflow_y": null,
            "overflow_x": null,
            "grid_auto_flow": null,
            "grid_area": null,
            "grid_template_columns": null,
            "flex": null,
            "_model_name": "LayoutModel",
            "justify_items": null,
            "grid_row": null,
            "max_height": null,
            "align_content": null,
            "visibility": null,
            "align_self": null,
            "height": null,
            "min_height": null,
            "padding": null,
            "grid_auto_rows": null,
            "grid_gap": null,
            "max_width": null,
            "order": null,
            "_view_module_version": "1.2.0",
            "grid_template_areas": null,
            "object_position": null,
            "object_fit": null,
            "grid_auto_columns": null,
            "margin": null,
            "display": null,
            "left": null
          }
        },
        "7996259600384f1895553e7bd33798e3": {
          "model_module": "@jupyter-widgets/controls",
          "model_name": "LabelModel",
          "state": {
            "_view_name": "LabelView",
            "style": "IPY_MODEL_ac9301bcc51745ecbb32a96348a495a2",
            "_dom_classes": [],
            "description": "",
            "_model_name": "LabelModel",
            "placeholder": "​",
            "_view_module": "@jupyter-widgets/controls",
            "_model_module_version": "1.5.0",
            "value": "Sube tu imagen para identificar el año.",
            "_view_count": null,
            "_view_module_version": "1.5.0",
            "description_tooltip": null,
            "_model_module": "@jupyter-widgets/controls",
            "layout": "IPY_MODEL_0b8aa09f973344e3bce3e0a7640d38ea"
          }
        },
        "b3c129f30e214594929cfba9a7504559": {
          "model_module": "@jupyter-widgets/controls",
          "model_name": "FileUploadModel",
          "state": {
            "_view_name": "FileUploadView",
            "_counter": 0,
            "style": "IPY_MODEL_da9c140073094deca7b9bc2c6f7c8ec6",
            "_dom_classes": [],
            "description": "Upload",
            "multiple": false,
            "_model_name": "FileUploadModel",
            "data": [],
            "button_style": "",
            "_view_module": "@jupyter-widgets/controls",
            "_model_module_version": "1.5.0",
            "accept": "",
            "_view_count": null,
            "disabled": false,
            "_view_module_version": "1.5.0",
            "error": "",
            "description_tooltip": null,
            "metadata": [],
            "_model_module": "@jupyter-widgets/controls",
            "layout": "IPY_MODEL_feb8ba9e6d1741a384ccce75c7b13984",
            "icon": "upload"
          }
        },
        "5d7627f497ff444f9f6d6fe7bfd87020": {
          "model_module": "@jupyter-widgets/output",
          "model_name": "OutputModel",
          "state": {
            "_view_name": "OutputView",
            "msg_id": "",
            "_dom_classes": [],
            "_model_name": "OutputModel",
            "outputs": [],
            "_view_module": "@jupyter-widgets/output",
            "_model_module_version": "1.0.0",
            "_view_count": null,
            "_view_module_version": "1.0.0",
            "layout": "IPY_MODEL_5fe32f897cf949dcb4662f5e2a96a945",
            "_model_module": "@jupyter-widgets/output"
          }
        },
        "3e0c190a2cab46a1a3df6c842bfc34c5": {
          "model_module": "@jupyter-widgets/controls",
          "model_name": "LabelModel",
          "state": {
            "_view_name": "LabelView",
            "style": "IPY_MODEL_d30fc99f5f0b4195a6cea883bfc98131",
            "_dom_classes": [],
            "description": "",
            "_model_name": "LabelModel",
            "placeholder": "​",
            "_view_module": "@jupyter-widgets/controls",
            "_model_module_version": "1.5.0",
            "value": "",
            "_view_count": null,
            "_view_module_version": "1.5.0",
            "description_tooltip": null,
            "_model_module": "@jupyter-widgets/controls",
            "layout": "IPY_MODEL_7c317039f51e49ce8a8742177d885c68"
          }
        },
        "ac9301bcc51745ecbb32a96348a495a2": {
          "model_module": "@jupyter-widgets/controls",
          "model_name": "DescriptionStyleModel",
          "state": {
            "_view_name": "StyleView",
            "_model_name": "DescriptionStyleModel",
            "description_width": "",
            "_view_module": "@jupyter-widgets/base",
            "_model_module_version": "1.5.0",
            "_view_count": null,
            "_view_module_version": "1.2.0",
            "_model_module": "@jupyter-widgets/controls"
          }
        },
        "0b8aa09f973344e3bce3e0a7640d38ea": {
          "model_module": "@jupyter-widgets/base",
          "model_name": "LayoutModel",
          "state": {
            "_view_name": "LayoutView",
            "grid_template_rows": null,
            "right": null,
            "justify_content": null,
            "_view_module": "@jupyter-widgets/base",
            "overflow": null,
            "_model_module_version": "1.2.0",
            "_view_count": null,
            "flex_flow": null,
            "width": null,
            "min_width": null,
            "border": null,
            "align_items": null,
            "bottom": null,
            "_model_module": "@jupyter-widgets/base",
            "top": null,
            "grid_column": null,
            "overflow_y": null,
            "overflow_x": null,
            "grid_auto_flow": null,
            "grid_area": null,
            "grid_template_columns": null,
            "flex": null,
            "_model_name": "LayoutModel",
            "justify_items": null,
            "grid_row": null,
            "max_height": null,
            "align_content": null,
            "visibility": null,
            "align_self": null,
            "height": null,
            "min_height": null,
            "padding": null,
            "grid_auto_rows": null,
            "grid_gap": null,
            "max_width": null,
            "order": null,
            "_view_module_version": "1.2.0",
            "grid_template_areas": null,
            "object_position": null,
            "object_fit": null,
            "grid_auto_columns": null,
            "margin": null,
            "display": null,
            "left": null
          }
        },
        "da9c140073094deca7b9bc2c6f7c8ec6": {
          "model_module": "@jupyter-widgets/controls",
          "model_name": "ButtonStyleModel",
          "state": {
            "_view_name": "StyleView",
            "_model_name": "ButtonStyleModel",
            "_view_module": "@jupyter-widgets/base",
            "_model_module_version": "1.5.0",
            "_view_count": null,
            "button_color": null,
            "font_weight": "",
            "_view_module_version": "1.2.0",
            "_model_module": "@jupyter-widgets/controls"
          }
        },
        "feb8ba9e6d1741a384ccce75c7b13984": {
          "model_module": "@jupyter-widgets/base",
          "model_name": "LayoutModel",
          "state": {
            "_view_name": "LayoutView",
            "grid_template_rows": null,
            "right": null,
            "justify_content": null,
            "_view_module": "@jupyter-widgets/base",
            "overflow": null,
            "_model_module_version": "1.2.0",
            "_view_count": null,
            "flex_flow": null,
            "width": null,
            "min_width": null,
            "border": null,
            "align_items": null,
            "bottom": null,
            "_model_module": "@jupyter-widgets/base",
            "top": null,
            "grid_column": null,
            "overflow_y": null,
            "overflow_x": null,
            "grid_auto_flow": null,
            "grid_area": null,
            "grid_template_columns": null,
            "flex": null,
            "_model_name": "LayoutModel",
            "justify_items": null,
            "grid_row": null,
            "max_height": null,
            "align_content": null,
            "visibility": null,
            "align_self": null,
            "height": null,
            "min_height": null,
            "padding": null,
            "grid_auto_rows": null,
            "grid_gap": null,
            "max_width": null,
            "order": null,
            "_view_module_version": "1.2.0",
            "grid_template_areas": null,
            "object_position": null,
            "object_fit": null,
            "grid_auto_columns": null,
            "margin": null,
            "display": null,
            "left": null
          }
        },
        "d30fc99f5f0b4195a6cea883bfc98131": {
          "model_module": "@jupyter-widgets/controls",
          "model_name": "DescriptionStyleModel",
          "state": {
            "_view_name": "StyleView",
            "_model_name": "DescriptionStyleModel",
            "description_width": "",
            "_view_module": "@jupyter-widgets/base",
            "_model_module_version": "1.5.0",
            "_view_count": null,
            "_view_module_version": "1.2.0",
            "_model_module": "@jupyter-widgets/controls"
          }
        },
        "7c317039f51e49ce8a8742177d885c68": {
          "model_module": "@jupyter-widgets/base",
          "model_name": "LayoutModel",
          "state": {
            "_view_name": "LayoutView",
            "grid_template_rows": null,
            "right": null,
            "justify_content": null,
            "_view_module": "@jupyter-widgets/base",
            "overflow": null,
            "_model_module_version": "1.2.0",
            "_view_count": null,
            "flex_flow": null,
            "width": null,
            "min_width": null,
            "border": null,
            "align_items": null,
            "bottom": null,
            "_model_module": "@jupyter-widgets/base",
            "top": null,
            "grid_column": null,
            "overflow_y": null,
            "overflow_x": null,
            "grid_auto_flow": null,
            "grid_area": null,
            "grid_template_columns": null,
            "flex": null,
            "_model_name": "LayoutModel",
            "justify_items": null,
            "grid_row": null,
            "max_height": null,
            "align_content": null,
            "visibility": null,
            "align_self": null,
            "height": null,
            "min_height": null,
            "padding": null,
            "grid_auto_rows": null,
            "grid_gap": null,
            "max_width": null,
            "order": null,
            "_view_module_version": "1.2.0",
            "grid_template_areas": null,
            "object_position": null,
            "object_fit": null,
            "grid_auto_columns": null,
            "margin": null,
            "display": null,
            "left": null
          }
        },
        "5fe32f897cf949dcb4662f5e2a96a945": {
          "model_module": "@jupyter-widgets/base",
          "model_name": "LayoutModel",
          "state": {
            "_view_name": "LayoutView",
            "grid_template_rows": null,
            "right": null,
            "justify_content": null,
            "_view_module": "@jupyter-widgets/base",
            "overflow": null,
            "_model_module_version": "1.2.0",
            "_view_count": null,
            "flex_flow": null,
            "width": null,
            "min_width": null,
            "border": null,
            "align_items": null,
            "bottom": null,
            "_model_module": "@jupyter-widgets/base",
            "top": null,
            "grid_column": null,
            "overflow_y": null,
            "overflow_x": null,
            "grid_auto_flow": null,
            "grid_area": null,
            "grid_template_columns": null,
            "flex": null,
            "_model_name": "LayoutModel",
            "justify_items": null,
            "grid_row": null,
            "max_height": null,
            "align_content": null,
            "visibility": null,
            "align_self": null,
            "height": null,
            "min_height": null,
            "padding": null,
            "grid_auto_rows": null,
            "grid_gap": null,
            "max_width": null,
            "order": null,
            "_view_module_version": "1.2.0",
            "grid_template_areas": null,
            "object_position": null,
            "object_fit": null,
            "grid_auto_columns": null,
            "margin": null,
            "display": null,
            "left": null
          }
        },
        "1c26fda57a914e61af1abafc9d3d6d73": {
          "model_module": "@jupyter-widgets/controls",
          "model_name": "VBoxModel",
          "state": {
            "_view_name": "VBoxView",
            "_dom_classes": [],
            "_model_name": "VBoxModel",
            "_view_module": "@jupyter-widgets/controls",
            "_model_module_version": "1.5.0",
            "_view_count": null,
            "_view_module_version": "1.5.0",
            "box_style": "",
            "layout": "IPY_MODEL_3bf00b2d0dd04eafb2d4cb53a2d54091",
            "_model_module": "@jupyter-widgets/controls",
            "children": [
              "IPY_MODEL_07e868dcfeeb4991bd0caaf79e20ba49",
              "IPY_MODEL_f60c0dd05e3344ea94056c61516c3ca9",
              "IPY_MODEL_476d7db518e3481db3b5e4af44236806",
              "IPY_MODEL_9edf98c32fa94306b1aa0a838e0f39e2"
            ]
          }
        },
        "3bf00b2d0dd04eafb2d4cb53a2d54091": {
          "model_module": "@jupyter-widgets/base",
          "model_name": "LayoutModel",
          "state": {
            "_view_name": "LayoutView",
            "grid_template_rows": null,
            "right": null,
            "justify_content": null,
            "_view_module": "@jupyter-widgets/base",
            "overflow": null,
            "_model_module_version": "1.2.0",
            "_view_count": null,
            "flex_flow": null,
            "width": null,
            "min_width": null,
            "border": null,
            "align_items": null,
            "bottom": null,
            "_model_module": "@jupyter-widgets/base",
            "top": null,
            "grid_column": null,
            "overflow_y": null,
            "overflow_x": null,
            "grid_auto_flow": null,
            "grid_area": null,
            "grid_template_columns": null,
            "flex": null,
            "_model_name": "LayoutModel",
            "justify_items": null,
            "grid_row": null,
            "max_height": null,
            "align_content": null,
            "visibility": null,
            "align_self": null,
            "height": null,
            "min_height": null,
            "padding": null,
            "grid_auto_rows": null,
            "grid_gap": null,
            "max_width": null,
            "order": null,
            "_view_module_version": "1.2.0",
            "grid_template_areas": null,
            "object_position": null,
            "object_fit": null,
            "grid_auto_columns": null,
            "margin": null,
            "display": null,
            "left": null
          }
        },
        "07e868dcfeeb4991bd0caaf79e20ba49": {
          "model_module": "@jupyter-widgets/controls",
          "model_name": "LabelModel",
          "state": {
            "_view_name": "LabelView",
            "style": "IPY_MODEL_c87a87c8f22b49f49fb0a8d84460ce25",
            "_dom_classes": [],
            "description": "",
            "_model_name": "LabelModel",
            "placeholder": "​",
            "_view_module": "@jupyter-widgets/controls",
            "_model_module_version": "1.5.0",
            "value": "Sube tu imagen para identificar el año.",
            "_view_count": null,
            "_view_module_version": "1.5.0",
            "description_tooltip": null,
            "_model_module": "@jupyter-widgets/controls",
            "layout": "IPY_MODEL_3d45ff1e8ed54de59e336768fdd570a1"
          }
        },
        "f60c0dd05e3344ea94056c61516c3ca9": {
          "model_module": "@jupyter-widgets/controls",
          "model_name": "FileUploadModel",
          "state": {
            "_view_name": "FileUploadView",
            "_counter": 0,
            "style": "IPY_MODEL_6ee754f59c8a40f4b4118f16821284ca",
            "_dom_classes": [],
            "description": "Upload",
            "multiple": false,
            "_model_name": "FileUploadModel",
            "data": [],
            "button_style": "",
            "_view_module": "@jupyter-widgets/controls",
            "_model_module_version": "1.5.0",
            "accept": "",
            "_view_count": null,
            "disabled": false,
            "_view_module_version": "1.5.0",
            "error": "",
            "description_tooltip": null,
            "metadata": [],
            "_model_module": "@jupyter-widgets/controls",
            "layout": "IPY_MODEL_944311f1972f46cf93ad64bea08b57f6",
            "icon": "upload"
          }
        },
        "476d7db518e3481db3b5e4af44236806": {
          "model_module": "@jupyter-widgets/output",
          "model_name": "OutputModel",
          "state": {
            "_view_name": "OutputView",
            "msg_id": "",
            "_dom_classes": [],
            "_model_name": "OutputModel",
            "outputs": [],
            "_view_module": "@jupyter-widgets/output",
            "_model_module_version": "1.0.0",
            "_view_count": null,
            "_view_module_version": "1.0.0",
            "layout": "IPY_MODEL_766496b881bb45f99eb16cd4993aa26f",
            "_model_module": "@jupyter-widgets/output"
          }
        },
        "9edf98c32fa94306b1aa0a838e0f39e2": {
          "model_module": "@jupyter-widgets/controls",
          "model_name": "LabelModel",
          "state": {
            "_view_name": "LabelView",
            "style": "IPY_MODEL_18b7fa7a3fa945a6ac38bd6a3162ad48",
            "_dom_classes": [],
            "description": "",
            "_model_name": "LabelModel",
            "placeholder": "​",
            "_view_module": "@jupyter-widgets/controls",
            "_model_module_version": "1.5.0",
            "value": "",
            "_view_count": null,
            "_view_module_version": "1.5.0",
            "description_tooltip": null,
            "_model_module": "@jupyter-widgets/controls",
            "layout": "IPY_MODEL_ebf58aaca2204112b5d56958da58dd26"
          }
        },
        "c87a87c8f22b49f49fb0a8d84460ce25": {
          "model_module": "@jupyter-widgets/controls",
          "model_name": "DescriptionStyleModel",
          "state": {
            "_view_name": "StyleView",
            "_model_name": "DescriptionStyleModel",
            "description_width": "",
            "_view_module": "@jupyter-widgets/base",
            "_model_module_version": "1.5.0",
            "_view_count": null,
            "_view_module_version": "1.2.0",
            "_model_module": "@jupyter-widgets/controls"
          }
        },
        "3d45ff1e8ed54de59e336768fdd570a1": {
          "model_module": "@jupyter-widgets/base",
          "model_name": "LayoutModel",
          "state": {
            "_view_name": "LayoutView",
            "grid_template_rows": null,
            "right": null,
            "justify_content": null,
            "_view_module": "@jupyter-widgets/base",
            "overflow": null,
            "_model_module_version": "1.2.0",
            "_view_count": null,
            "flex_flow": null,
            "width": null,
            "min_width": null,
            "border": null,
            "align_items": null,
            "bottom": null,
            "_model_module": "@jupyter-widgets/base",
            "top": null,
            "grid_column": null,
            "overflow_y": null,
            "overflow_x": null,
            "grid_auto_flow": null,
            "grid_area": null,
            "grid_template_columns": null,
            "flex": null,
            "_model_name": "LayoutModel",
            "justify_items": null,
            "grid_row": null,
            "max_height": null,
            "align_content": null,
            "visibility": null,
            "align_self": null,
            "height": null,
            "min_height": null,
            "padding": null,
            "grid_auto_rows": null,
            "grid_gap": null,
            "max_width": null,
            "order": null,
            "_view_module_version": "1.2.0",
            "grid_template_areas": null,
            "object_position": null,
            "object_fit": null,
            "grid_auto_columns": null,
            "margin": null,
            "display": null,
            "left": null
          }
        },
        "6ee754f59c8a40f4b4118f16821284ca": {
          "model_module": "@jupyter-widgets/controls",
          "model_name": "ButtonStyleModel",
          "state": {
            "_view_name": "StyleView",
            "_model_name": "ButtonStyleModel",
            "_view_module": "@jupyter-widgets/base",
            "_model_module_version": "1.5.0",
            "_view_count": null,
            "button_color": null,
            "font_weight": "",
            "_view_module_version": "1.2.0",
            "_model_module": "@jupyter-widgets/controls"
          }
        },
        "944311f1972f46cf93ad64bea08b57f6": {
          "model_module": "@jupyter-widgets/base",
          "model_name": "LayoutModel",
          "state": {
            "_view_name": "LayoutView",
            "grid_template_rows": null,
            "right": null,
            "justify_content": null,
            "_view_module": "@jupyter-widgets/base",
            "overflow": null,
            "_model_module_version": "1.2.0",
            "_view_count": null,
            "flex_flow": null,
            "width": null,
            "min_width": null,
            "border": null,
            "align_items": null,
            "bottom": null,
            "_model_module": "@jupyter-widgets/base",
            "top": null,
            "grid_column": null,
            "overflow_y": null,
            "overflow_x": null,
            "grid_auto_flow": null,
            "grid_area": null,
            "grid_template_columns": null,
            "flex": null,
            "_model_name": "LayoutModel",
            "justify_items": null,
            "grid_row": null,
            "max_height": null,
            "align_content": null,
            "visibility": null,
            "align_self": null,
            "height": null,
            "min_height": null,
            "padding": null,
            "grid_auto_rows": null,
            "grid_gap": null,
            "max_width": null,
            "order": null,
            "_view_module_version": "1.2.0",
            "grid_template_areas": null,
            "object_position": null,
            "object_fit": null,
            "grid_auto_columns": null,
            "margin": null,
            "display": null,
            "left": null
          }
        },
        "18b7fa7a3fa945a6ac38bd6a3162ad48": {
          "model_module": "@jupyter-widgets/controls",
          "model_name": "DescriptionStyleModel",
          "state": {
            "_view_name": "StyleView",
            "_model_name": "DescriptionStyleModel",
            "description_width": "",
            "_view_module": "@jupyter-widgets/base",
            "_model_module_version": "1.5.0",
            "_view_count": null,
            "_view_module_version": "1.2.0",
            "_model_module": "@jupyter-widgets/controls"
          }
        },
        "ebf58aaca2204112b5d56958da58dd26": {
          "model_module": "@jupyter-widgets/base",
          "model_name": "LayoutModel",
          "state": {
            "_view_name": "LayoutView",
            "grid_template_rows": null,
            "right": null,
            "justify_content": null,
            "_view_module": "@jupyter-widgets/base",
            "overflow": null,
            "_model_module_version": "1.2.0",
            "_view_count": null,
            "flex_flow": null,
            "width": null,
            "min_width": null,
            "border": null,
            "align_items": null,
            "bottom": null,
            "_model_module": "@jupyter-widgets/base",
            "top": null,
            "grid_column": null,
            "overflow_y": null,
            "overflow_x": null,
            "grid_auto_flow": null,
            "grid_area": null,
            "grid_template_columns": null,
            "flex": null,
            "_model_name": "LayoutModel",
            "justify_items": null,
            "grid_row": null,
            "max_height": null,
            "align_content": null,
            "visibility": null,
            "align_self": null,
            "height": null,
            "min_height": null,
            "padding": null,
            "grid_auto_rows": null,
            "grid_gap": null,
            "max_width": null,
            "order": null,
            "_view_module_version": "1.2.0",
            "grid_template_areas": null,
            "object_position": null,
            "object_fit": null,
            "grid_auto_columns": null,
            "margin": null,
            "display": null,
            "left": null
          }
        },
        "766496b881bb45f99eb16cd4993aa26f": {
          "model_module": "@jupyter-widgets/base",
          "model_name": "LayoutModel",
          "state": {
            "_view_name": "LayoutView",
            "grid_template_rows": null,
            "right": null,
            "justify_content": null,
            "_view_module": "@jupyter-widgets/base",
            "overflow": null,
            "_model_module_version": "1.2.0",
            "_view_count": null,
            "flex_flow": null,
            "width": null,
            "min_width": null,
            "border": null,
            "align_items": null,
            "bottom": null,
            "_model_module": "@jupyter-widgets/base",
            "top": null,
            "grid_column": null,
            "overflow_y": null,
            "overflow_x": null,
            "grid_auto_flow": null,
            "grid_area": null,
            "grid_template_columns": null,
            "flex": null,
            "_model_name": "LayoutModel",
            "justify_items": null,
            "grid_row": null,
            "max_height": null,
            "align_content": null,
            "visibility": null,
            "align_self": null,
            "height": null,
            "min_height": null,
            "padding": null,
            "grid_auto_rows": null,
            "grid_gap": null,
            "max_width": null,
            "order": null,
            "_view_module_version": "1.2.0",
            "grid_template_areas": null,
            "object_position": null,
            "object_fit": null,
            "grid_auto_columns": null,
            "margin": null,
            "display": null,
            "left": null
          }
        },
        "91fad84ed5b8421189b4142e5f6b6b6d": {
          "model_module": "@jupyter-widgets/controls",
          "model_name": "VBoxModel",
          "state": {
            "_view_name": "VBoxView",
            "_dom_classes": [],
            "_model_name": "VBoxModel",
            "_view_module": "@jupyter-widgets/controls",
            "_model_module_version": "1.5.0",
            "_view_count": null,
            "_view_module_version": "1.5.0",
            "box_style": "",
            "layout": "IPY_MODEL_ec68794ed01c4cefa4bd46b3a8cd50af",
            "_model_module": "@jupyter-widgets/controls",
            "children": [
              "IPY_MODEL_79a1f39006e444b6b3a5231413177e8d",
              "IPY_MODEL_76a8ca9f30094752ad5ef0966e684264",
              "IPY_MODEL_c3f4f150aadf4160a5a74e44f631cf80",
              "IPY_MODEL_f12dcd1ed84f4099bc383ea310dc12fe"
            ]
          }
        },
        "ec68794ed01c4cefa4bd46b3a8cd50af": {
          "model_module": "@jupyter-widgets/base",
          "model_name": "LayoutModel",
          "state": {
            "_view_name": "LayoutView",
            "grid_template_rows": null,
            "right": null,
            "justify_content": null,
            "_view_module": "@jupyter-widgets/base",
            "overflow": null,
            "_model_module_version": "1.2.0",
            "_view_count": null,
            "flex_flow": null,
            "width": null,
            "min_width": null,
            "border": null,
            "align_items": null,
            "bottom": null,
            "_model_module": "@jupyter-widgets/base",
            "top": null,
            "grid_column": null,
            "overflow_y": null,
            "overflow_x": null,
            "grid_auto_flow": null,
            "grid_area": null,
            "grid_template_columns": null,
            "flex": null,
            "_model_name": "LayoutModel",
            "justify_items": null,
            "grid_row": null,
            "max_height": null,
            "align_content": null,
            "visibility": null,
            "align_self": null,
            "height": null,
            "min_height": null,
            "padding": null,
            "grid_auto_rows": null,
            "grid_gap": null,
            "max_width": null,
            "order": null,
            "_view_module_version": "1.2.0",
            "grid_template_areas": null,
            "object_position": null,
            "object_fit": null,
            "grid_auto_columns": null,
            "margin": null,
            "display": null,
            "left": null
          }
        },
        "79a1f39006e444b6b3a5231413177e8d": {
          "model_module": "@jupyter-widgets/controls",
          "model_name": "LabelModel",
          "state": {
            "_view_name": "LabelView",
            "style": "IPY_MODEL_b49d5d3d843f4aa3a6f0c401abc3421a",
            "_dom_classes": [],
            "description": "",
            "_model_name": "LabelModel",
            "placeholder": "​",
            "_view_module": "@jupyter-widgets/controls",
            "_model_module_version": "1.5.0",
            "value": "Sube tu imagen para identificar el año.",
            "_view_count": null,
            "_view_module_version": "1.5.0",
            "description_tooltip": null,
            "_model_module": "@jupyter-widgets/controls",
            "layout": "IPY_MODEL_dcc73e33dd98428a95c7360173e02713"
          }
        },
        "76a8ca9f30094752ad5ef0966e684264": {
          "model_module": "@jupyter-widgets/controls",
          "model_name": "FileUploadModel",
          "state": {
            "_view_name": "FileUploadView",
            "_counter": 1,
            "style": "IPY_MODEL_9e8d415fbeff43558d8ebe754672a021",
            "_dom_classes": [],
            "description": "Upload",
            "multiple": false,
            "_model_name": "FileUploadModel",
            "data": [
              null
            ],
            "button_style": "",
            "_view_module": "@jupyter-widgets/controls",
            "_model_module_version": "1.5.0",
            "accept": "",
            "_view_count": null,
            "disabled": false,
            "_view_module_version": "1.5.0",
            "error": "",
            "description_tooltip": null,
            "metadata": [
              {
                "name": "109.jpg",
                "type": "image/jpeg",
                "size": 78688,
                "lastModified": 1622218038541
              }
            ],
            "_model_module": "@jupyter-widgets/controls",
            "layout": "IPY_MODEL_5cf57bd1b2734a2685b59c7e6c728e23",
            "icon": "upload"
          }
        },
        "c3f4f150aadf4160a5a74e44f631cf80": {
          "model_module": "@jupyter-widgets/output",
          "model_name": "OutputModel",
          "state": {
            "_view_name": "OutputView",
            "msg_id": "",
            "_dom_classes": [],
            "_model_name": "OutputModel",
            "outputs": [
              {
                "output_type": "display_data",
                "metadata": {
                  "tags": []
                },
                "image/png": "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\n",
                "text/plain": "<PIL.Image.Image image mode=RGB size=244x168 at 0x7F7CD85099D0>"
              }
            ],
            "_view_module": "@jupyter-widgets/output",
            "_model_module_version": "1.0.0",
            "_view_count": null,
            "_view_module_version": "1.0.0",
            "layout": "IPY_MODEL_04c56169813d4a419763ed06c4b8b6b5",
            "_model_module": "@jupyter-widgets/output"
          }
        },
        "f12dcd1ed84f4099bc383ea310dc12fe": {
          "model_module": "@jupyter-widgets/controls",
          "model_name": "LabelModel",
          "state": {
            "_view_name": "LabelView",
            "style": "IPY_MODEL_3eef11284e4d408da2bf6ceec6e0239e",
            "_dom_classes": [],
            "description": "",
            "_model_name": "LabelModel",
            "placeholder": "​",
            "_view_module": "@jupyter-widgets/controls",
            "_model_module_version": "1.5.0",
            "value": "Predicción: 1933.",
            "_view_count": null,
            "_view_module_version": "1.5.0",
            "description_tooltip": null,
            "_model_module": "@jupyter-widgets/controls",
            "layout": "IPY_MODEL_df8ff03ce2594bf7a92a1576f2d772c5"
          }
        },
        "b49d5d3d843f4aa3a6f0c401abc3421a": {
          "model_module": "@jupyter-widgets/controls",
          "model_name": "DescriptionStyleModel",
          "state": {
            "_view_name": "StyleView",
            "_model_name": "DescriptionStyleModel",
            "description_width": "",
            "_view_module": "@jupyter-widgets/base",
            "_model_module_version": "1.5.0",
            "_view_count": null,
            "_view_module_version": "1.2.0",
            "_model_module": "@jupyter-widgets/controls"
          }
        },
        "dcc73e33dd98428a95c7360173e02713": {
          "model_module": "@jupyter-widgets/base",
          "model_name": "LayoutModel",
          "state": {
            "_view_name": "LayoutView",
            "grid_template_rows": null,
            "right": null,
            "justify_content": null,
            "_view_module": "@jupyter-widgets/base",
            "overflow": null,
            "_model_module_version": "1.2.0",
            "_view_count": null,
            "flex_flow": null,
            "width": null,
            "min_width": null,
            "border": null,
            "align_items": null,
            "bottom": null,
            "_model_module": "@jupyter-widgets/base",
            "top": null,
            "grid_column": null,
            "overflow_y": null,
            "overflow_x": null,
            "grid_auto_flow": null,
            "grid_area": null,
            "grid_template_columns": null,
            "flex": null,
            "_model_name": "LayoutModel",
            "justify_items": null,
            "grid_row": null,
            "max_height": null,
            "align_content": null,
            "visibility": null,
            "align_self": null,
            "height": null,
            "min_height": null,
            "padding": null,
            "grid_auto_rows": null,
            "grid_gap": null,
            "max_width": null,
            "order": null,
            "_view_module_version": "1.2.0",
            "grid_template_areas": null,
            "object_position": null,
            "object_fit": null,
            "grid_auto_columns": null,
            "margin": null,
            "display": null,
            "left": null
          }
        },
        "9e8d415fbeff43558d8ebe754672a021": {
          "model_module": "@jupyter-widgets/controls",
          "model_name": "ButtonStyleModel",
          "state": {
            "_view_name": "StyleView",
            "_model_name": "ButtonStyleModel",
            "_view_module": "@jupyter-widgets/base",
            "_model_module_version": "1.5.0",
            "_view_count": null,
            "button_color": null,
            "font_weight": "",
            "_view_module_version": "1.2.0",
            "_model_module": "@jupyter-widgets/controls"
          }
        },
        "5cf57bd1b2734a2685b59c7e6c728e23": {
          "model_module": "@jupyter-widgets/base",
          "model_name": "LayoutModel",
          "state": {
            "_view_name": "LayoutView",
            "grid_template_rows": null,
            "right": null,
            "justify_content": null,
            "_view_module": "@jupyter-widgets/base",
            "overflow": null,
            "_model_module_version": "1.2.0",
            "_view_count": null,
            "flex_flow": null,
            "width": null,
            "min_width": null,
            "border": null,
            "align_items": null,
            "bottom": null,
            "_model_module": "@jupyter-widgets/base",
            "top": null,
            "grid_column": null,
            "overflow_y": null,
            "overflow_x": null,
            "grid_auto_flow": null,
            "grid_area": null,
            "grid_template_columns": null,
            "flex": null,
            "_model_name": "LayoutModel",
            "justify_items": null,
            "grid_row": null,
            "max_height": null,
            "align_content": null,
            "visibility": null,
            "align_self": null,
            "height": null,
            "min_height": null,
            "padding": null,
            "grid_auto_rows": null,
            "grid_gap": null,
            "max_width": null,
            "order": null,
            "_view_module_version": "1.2.0",
            "grid_template_areas": null,
            "object_position": null,
            "object_fit": null,
            "grid_auto_columns": null,
            "margin": null,
            "display": null,
            "left": null
          }
        },
        "3eef11284e4d408da2bf6ceec6e0239e": {
          "model_module": "@jupyter-widgets/controls",
          "model_name": "DescriptionStyleModel",
          "state": {
            "_view_name": "StyleView",
            "_model_name": "DescriptionStyleModel",
            "description_width": "",
            "_view_module": "@jupyter-widgets/base",
            "_model_module_version": "1.5.0",
            "_view_count": null,
            "_view_module_version": "1.2.0",
            "_model_module": "@jupyter-widgets/controls"
          }
        },
        "df8ff03ce2594bf7a92a1576f2d772c5": {
          "model_module": "@jupyter-widgets/base",
          "model_name": "LayoutModel",
          "state": {
            "_view_name": "LayoutView",
            "grid_template_rows": null,
            "right": null,
            "justify_content": null,
            "_view_module": "@jupyter-widgets/base",
            "overflow": null,
            "_model_module_version": "1.2.0",
            "_view_count": null,
            "flex_flow": null,
            "width": null,
            "min_width": null,
            "border": null,
            "align_items": null,
            "bottom": null,
            "_model_module": "@jupyter-widgets/base",
            "top": null,
            "grid_column": null,
            "overflow_y": null,
            "overflow_x": null,
            "grid_auto_flow": null,
            "grid_area": null,
            "grid_template_columns": null,
            "flex": null,
            "_model_name": "LayoutModel",
            "justify_items": null,
            "grid_row": null,
            "max_height": null,
            "align_content": null,
            "visibility": null,
            "align_self": null,
            "height": null,
            "min_height": null,
            "padding": null,
            "grid_auto_rows": null,
            "grid_gap": null,
            "max_width": null,
            "order": null,
            "_view_module_version": "1.2.0",
            "grid_template_areas": null,
            "object_position": null,
            "object_fit": null,
            "grid_auto_columns": null,
            "margin": null,
            "display": null,
            "left": null
          }
        },
        "04c56169813d4a419763ed06c4b8b6b5": {
          "model_module": "@jupyter-widgets/base",
          "model_name": "LayoutModel",
          "state": {
            "_view_name": "LayoutView",
            "grid_template_rows": null,
            "right": null,
            "justify_content": null,
            "_view_module": "@jupyter-widgets/base",
            "overflow": null,
            "_model_module_version": "1.2.0",
            "_view_count": null,
            "flex_flow": null,
            "width": null,
            "min_width": null,
            "border": null,
            "align_items": null,
            "bottom": null,
            "_model_module": "@jupyter-widgets/base",
            "top": null,
            "grid_column": null,
            "overflow_y": null,
            "overflow_x": null,
            "grid_auto_flow": null,
            "grid_area": null,
            "grid_template_columns": null,
            "flex": null,
            "_model_name": "LayoutModel",
            "justify_items": null,
            "grid_row": null,
            "max_height": null,
            "align_content": null,
            "visibility": null,
            "align_self": null,
            "height": null,
            "min_height": null,
            "padding": null,
            "grid_auto_rows": null,
            "grid_gap": null,
            "max_width": null,
            "order": null,
            "_view_module_version": "1.2.0",
            "grid_template_areas": null,
            "object_position": null,
            "object_fit": null,
            "grid_auto_columns": null,
            "margin": null,
            "display": null,
            "left": null
          }
        }
      }
    }
  },
  "cells": [
    {
      "cell_type": "markdown",
      "metadata": {
        "id": "view-in-github",
        "colab_type": "text"
      },
      "source": [
        "<a href=\"https://colab.research.google.com/github/ruescog/ImagenesAntiguas/blob/main/Aplicaci%C3%B3n.ipynb\" target=\"_parent\"><img src=\"https://colab.research.google.com/assets/colab-badge.svg\" alt=\"Open In Colab\"/></a>"
      ]
    },
    {
      "cell_type": "markdown",
      "metadata": {
        "id": "VCa9NM6e2JQj"
      },
      "source": [
        "# Modelo de clasificación de imagenes de la memoria de La Rioja\n",
        "\n",
        "En <a href=\"https://github.com/IA2021UR/trabajo-ia-en-la-comunidad-de-la-rioja-equipo-11/blob/main/Primer%20modelo.ipynb\">este</a> cuadernillo hemos construído un modelo capaz de clasificar imágenes antiguas y determinar en qué año fueron tomadas.\n",
        "\n",
        "Ahora desarrollaremos una aplicación web que permita utilizar el modelo desde el navegador."
      ]
    },
    {
      "cell_type": "markdown",
      "metadata": {
        "id": "ZSDe7tjq2Vyc"
      },
      "source": [
        "# Preparación del entorno de trabajo\n",
        "\n",
        "Descargamos las librerías necesarias e importamos el modelo."
      ]
    },
    {
      "cell_type": "code",
      "metadata": {
        "id": "CIKxl3Gz2iDL"
      },
      "source": [
        "!pip install fastai --upgrade -q"
      ],
      "execution_count": 1,
      "outputs": []
    },
    {
      "cell_type": "code",
      "metadata": {
        "id": "G678xYct2JE7"
      },
      "source": [
        "from fastai.vision.all import *\n",
        "from fastai.vision.widgets import *"
      ],
      "execution_count": 2,
      "outputs": []
    },
    {
      "cell_type": "code",
      "metadata": {
        "id": "QFzrfmQ98GzE"
      },
      "source": [
        "!wget https://github.com/ruescog/ImagenesAntiguas/raw/main/clasificacion_1.pkl -O clasificacion_1.pkl -q\n",
        "!wget https://github.com/ruescog/ImagenesAntiguas/raw/main/regresion_1.pkl -O regresion_1.pkl -q\n",
        "!wget https://github.com/ruescog/ImagenesAntiguas/raw/main/regresion_2.pkl -O regresion_2.pkl -q\n",
        "!wget https://github.com/ruescog/ImagenesAntiguas/raw/main/regresion_3.pkl -O regresion_3.pkl -q"
      ],
      "execution_count": 3,
      "outputs": []
    },
    {
      "cell_type": "markdown",
      "metadata": {
        "id": "rYnTLvLh3bfs"
      },
      "source": [
        "# Interfaz (clasificación)"
      ]
    },
    {
      "cell_type": "code",
      "metadata": {
        "id": "nOzlH_DEt9Ff"
      },
      "source": [
        "ruta1 = Path()\n",
        "modelo1 = load_learner(ruta1/\"clasificacion_1.pkl\")\n",
        "\n",
        "upload1 = widgets.FileUpload()\n",
        "fichero1 = widgets.Output()\n",
        "etiqueta1 = widgets.Label()"
      ],
      "execution_count": 4,
      "outputs": []
    },
    {
      "cell_type": "code",
      "metadata": {
        "id": "-RUjaHjD3dRj"
      },
      "source": [
        "def on_data_change_M1(change):\n",
        "  etiqueta1.value = \"\"\n",
        "\n",
        "  img = PILImage.create(upload1.data[-1])\n",
        "  fichero1.clear_output()\n",
        "  with fichero1:\n",
        "    display(img.to_thumb(224, 244))\n",
        "  \n",
        "  prediccion, indice, probabilidad = modelo1.predict(img)\n",
        "  etiqueta1.value = f\"Predicción: {prediccion}, probabilidad: {probabilidad[indice]}\""
      ],
      "execution_count": 5,
      "outputs": []
    },
    {
      "cell_type": "code",
      "metadata": {
        "id": "PLSPzn5G8dqU",
        "colab": {
          "base_uri": "https://localhost:8080/",
          "height": 113,
          "referenced_widgets": [
            "7c8f56010e9f4a71ad6e7314cd98fcf3",
            "b393e40ba2574e04ae624ef03fe5b4c7",
            "207660f166994f6b800f064e7ce8d4b4",
            "c8ed9cfa5206484383a6ae1c1234c5fc",
            "e64db3ec82c742b7a555edfdd87f0fba",
            "c952fb662ca34daea62210e257b24fba",
            "f423bc0885524402b7304d33ba461c80",
            "232d34779f8240938e875028d4950360",
            "a5dc7ce91d9743db94af5821023871de",
            "1f924fb192374eb48f7c849469659014",
            "7078db9584ea4742ba098f8b4a393bc2",
            "f255e3ef1e3e455e9426325db39d015b",
            "c00d5e88b49948d18f6178b9e91419a4"
          ]
        },
        "outputId": "2a439d43-9ee6-4248-f447-086bb07b2542"
      },
      "source": [
        "upload1.observe(on_data_change_M1, names=[\"data\"])\n",
        "display(VBox([widgets.Label(\"Sube tu imagen para clasificarla.\"), upload1, fichero1, etiqueta1]))"
      ],
      "execution_count": 6,
      "outputs": [
        {
          "output_type": "display_data",
          "data": {
            "application/vnd.jupyter.widget-view+json": {
              "model_id": "7c8f56010e9f4a71ad6e7314cd98fcf3",
              "version_minor": 0,
              "version_major": 2
            },
            "text/plain": [
              "VBox(children=(Label(value='Sube tu imagen para clasificarla.'), FileUpload(value={}, description='Upload'), O…"
            ]
          },
          "metadata": {
            "tags": []
          }
        }
      ]
    },
    {
      "cell_type": "markdown",
      "metadata": {
        "id": "mU0GB9JNoZmJ"
      },
      "source": [
        "# Interfaz (regresión)"
      ]
    },
    {
      "cell_type": "code",
      "metadata": {
        "id": "4kOzPqDirSIG"
      },
      "source": [
        "ruta2 = Path()\n",
        "modelo2 = load_learner(ruta2/\"regresion_1.pkl\")\n",
        "\n",
        "upload2 = widgets.FileUpload()\n",
        "fichero2 = widgets.Output()\n",
        "etiqueta2 = widgets.Label()"
      ],
      "execution_count": 7,
      "outputs": []
    },
    {
      "cell_type": "code",
      "metadata": {
        "id": "GPlq5X_SocoU"
      },
      "source": [
        "def on_data_change_M2(change):\n",
        "  etiqueta2.value = \"\"\n",
        "\n",
        "  img = PILImage.create(upload2.data[-1])\n",
        "  fichero2.clear_output()\n",
        "  with fichero2:\n",
        "    display(img.to_thumb(224, 244))\n",
        "  \n",
        "  prediccion = modelo2.predict(img)\n",
        "  etiqueta2.value = f\"Predicción: {prediccion[0]}.\""
      ],
      "execution_count": 8,
      "outputs": []
    },
    {
      "cell_type": "code",
      "metadata": {
        "colab": {
          "base_uri": "https://localhost:8080/",
          "height": 113,
          "referenced_widgets": [
            "2730a1c1c2644cc0b828809b0461fe2d",
            "9cccb2afc18846e39deacb1a5b529381",
            "7996259600384f1895553e7bd33798e3",
            "b3c129f30e214594929cfba9a7504559",
            "5d7627f497ff444f9f6d6fe7bfd87020",
            "3e0c190a2cab46a1a3df6c842bfc34c5",
            "ac9301bcc51745ecbb32a96348a495a2",
            "0b8aa09f973344e3bce3e0a7640d38ea",
            "da9c140073094deca7b9bc2c6f7c8ec6",
            "feb8ba9e6d1741a384ccce75c7b13984",
            "d30fc99f5f0b4195a6cea883bfc98131",
            "7c317039f51e49ce8a8742177d885c68",
            "5fe32f897cf949dcb4662f5e2a96a945"
          ]
        },
        "id": "JBxy71SFoe46",
        "outputId": "23bf7cb6-e34b-42ee-da05-1350df890a2e"
      },
      "source": [
        "upload2.observe(on_data_change_M2, names=[\"data\"])\n",
        "display(VBox([widgets.Label(\"Sube tu imagen para identificar el año.\"), upload2, fichero2, etiqueta2]))"
      ],
      "execution_count": 9,
      "outputs": [
        {
          "output_type": "display_data",
          "data": {
            "application/vnd.jupyter.widget-view+json": {
              "model_id": "2730a1c1c2644cc0b828809b0461fe2d",
              "version_minor": 0,
              "version_major": 2
            },
            "text/plain": [
              "VBox(children=(Label(value='Sube tu imagen para identificar el año.'), FileUpload(value={}, description='Uploa…"
            ]
          },
          "metadata": {
            "tags": []
          }
        }
      ]
    },
    {
      "cell_type": "markdown",
      "metadata": {
        "id": "aZiSLtbLtvNt"
      },
      "source": [
        "# Interfaz (regresión) 2"
      ]
    },
    {
      "cell_type": "code",
      "metadata": {
        "id": "opbd8YU5tyfE"
      },
      "source": [
        "ruta3 = Path()\n",
        "modelo3 = load_learner(ruta3/\"regresion_2.pkl\")\n",
        "\n",
        "upload3 = widgets.FileUpload()\n",
        "fichero3 = widgets.Output()\n",
        "etiqueta3 = widgets.Label()"
      ],
      "execution_count": 10,
      "outputs": []
    },
    {
      "cell_type": "code",
      "metadata": {
        "id": "rbio9zvHt0TM"
      },
      "source": [
        "def on_data_change_M3(change):\n",
        "  etiqueta3.value = \"\"\n",
        "\n",
        "  img = PILImage.create(upload3.data[-1])\n",
        "  fichero3.clear_output()\n",
        "  with fichero3:\n",
        "    display(img.to_thumb(224, 244))\n",
        "  \n",
        "  prediccion = modelo3.predict(img)\n",
        "  etiqueta3.value = f\"Predicción: {prediccion[0]}.\""
      ],
      "execution_count": 11,
      "outputs": []
    },
    {
      "cell_type": "code",
      "metadata": {
        "colab": {
          "base_uri": "https://localhost:8080/",
          "height": 113,
          "referenced_widgets": [
            "1c26fda57a914e61af1abafc9d3d6d73",
            "3bf00b2d0dd04eafb2d4cb53a2d54091",
            "07e868dcfeeb4991bd0caaf79e20ba49",
            "f60c0dd05e3344ea94056c61516c3ca9",
            "476d7db518e3481db3b5e4af44236806",
            "9edf98c32fa94306b1aa0a838e0f39e2",
            "c87a87c8f22b49f49fb0a8d84460ce25",
            "3d45ff1e8ed54de59e336768fdd570a1",
            "6ee754f59c8a40f4b4118f16821284ca",
            "944311f1972f46cf93ad64bea08b57f6",
            "18b7fa7a3fa945a6ac38bd6a3162ad48",
            "ebf58aaca2204112b5d56958da58dd26",
            "766496b881bb45f99eb16cd4993aa26f"
          ]
        },
        "id": "zakg3zm3t1Xk",
        "outputId": "7b2409c1-ccc5-4f8c-cce0-c86b9d836d3d"
      },
      "source": [
        "upload3.observe(on_data_change_M3, names=[\"data\"])\n",
        "display(VBox([widgets.Label(\"Sube tu imagen para identificar el año.\"), upload3, fichero3, etiqueta3]))"
      ],
      "execution_count": 12,
      "outputs": [
        {
          "output_type": "display_data",
          "data": {
            "application/vnd.jupyter.widget-view+json": {
              "model_id": "1c26fda57a914e61af1abafc9d3d6d73",
              "version_minor": 0,
              "version_major": 2
            },
            "text/plain": [
              "VBox(children=(Label(value='Sube tu imagen para identificar el año.'), FileUpload(value={}, description='Uploa…"
            ]
          },
          "metadata": {
            "tags": []
          }
        }
      ]
    },
    {
      "cell_type": "markdown",
      "metadata": {
        "id": "xq5CnFvvuM8L"
      },
      "source": [
        "# Interfaz (regresión) 3"
      ]
    },
    {
      "cell_type": "code",
      "metadata": {
        "id": "71zeIj7juMRk"
      },
      "source": [
        "ruta4 = Path()\n",
        "modelo4 = load_learner(ruta4/\"regresion_3.pkl\")\n",
        "\n",
        "upload4 = widgets.FileUpload()\n",
        "fichero4 = widgets.Output()\n",
        "etiqueta4 = widgets.Label()"
      ],
      "execution_count": 13,
      "outputs": []
    },
    {
      "cell_type": "code",
      "metadata": {
        "id": "eyUXQNVuuVIy"
      },
      "source": [
        "def on_data_change_M4(change):\n",
        "  etiqueta4.value = \"\"\n",
        "\n",
        "  img = PILImage.create(upload4.data[-1])\n",
        "  fichero4.clear_output()\n",
        "  with fichero4:\n",
        "    display(img.to_thumb(224, 244))\n",
        "  \n",
        "  prediccion = modelo4.predict(img)\n",
        "  etiqueta4.value = f\"Predicción: {int(prediccion[0][0])}.\""
      ],
      "execution_count": 14,
      "outputs": []
    },
    {
      "cell_type": "code",
      "metadata": {
        "colab": {
          "base_uri": "https://localhost:8080/",
          "height": 281,
          "referenced_widgets": [
            "91fad84ed5b8421189b4142e5f6b6b6d",
            "ec68794ed01c4cefa4bd46b3a8cd50af",
            "79a1f39006e444b6b3a5231413177e8d",
            "76a8ca9f30094752ad5ef0966e684264",
            "c3f4f150aadf4160a5a74e44f631cf80",
            "f12dcd1ed84f4099bc383ea310dc12fe",
            "b49d5d3d843f4aa3a6f0c401abc3421a",
            "dcc73e33dd98428a95c7360173e02713",
            "9e8d415fbeff43558d8ebe754672a021",
            "5cf57bd1b2734a2685b59c7e6c728e23",
            "3eef11284e4d408da2bf6ceec6e0239e",
            "df8ff03ce2594bf7a92a1576f2d772c5",
            "04c56169813d4a419763ed06c4b8b6b5"
          ]
        },
        "id": "DkBpMEcWuZyX",
        "outputId": "f670d2e2-9821-48f4-e88c-4ab56aa757db"
      },
      "source": [
        "upload4.observe(on_data_change_M4, names=[\"data\"])\n",
        "display(VBox([widgets.Label(\"Sube tu imagen para identificar el año.\"), upload4, fichero4, etiqueta4]))"
      ],
      "execution_count": 15,
      "outputs": [
        {
          "output_type": "display_data",
          "data": {
            "application/vnd.jupyter.widget-view+json": {
              "model_id": "91fad84ed5b8421189b4142e5f6b6b6d",
              "version_minor": 0,
              "version_major": 2
            },
            "text/plain": [
              "VBox(children=(Label(value='Sube tu imagen para identificar el año.'), FileUpload(value={}, description='Uploa…"
            ]
          },
          "metadata": {
            "tags": []
          }
        },
        {
          "output_type": "display_data",
          "data": {
            "text/html": [
              ""
            ],
            "text/plain": [
              "<IPython.core.display.HTML object>"
            ]
          },
          "metadata": {
            "tags": []
          }
        }
      ]
    },
    {
      "cell_type": "markdown",
      "metadata": {
        "id": "RsHVvpYoCzZs"
      },
      "source": [
        "# Notas importantes\n",
        "\n",
        "Este notebook ha tenido que ser **replicado** a un repositorio público para poder ser publicado con Binder. La ruta pública es <a href=\"https://github.com/ruescog/ImagenesAntiguas/blob/main/Aplicaci%C3%B3n.ipynb\">esta</a>.\n",
        "\n",
        "Para usarlo online, se puede acceder desde <a href=\"https://hub.gke2.mybinder.org/user/ruescog-imagenesantiguas-pla7bv7w/voila/render/Aplicaci%C3%B3n.ipynb?token=VzfiXtgqSyK9Kyb_I7-VcQ\">este</a> enlace."
      ]
    }
  ]
}